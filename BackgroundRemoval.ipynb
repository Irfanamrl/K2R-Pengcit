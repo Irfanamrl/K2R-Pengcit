{
 "cells": [
  {
   "cell_type": "code",
   "execution_count": 37,
   "metadata": {},
   "outputs": [],
   "source": [
    "import cv2\n",
    "import numpy as np\n",
    "import mahotas\n",
    "from skimage import color\n",
    "from matplotlib import pyplot as plt\n",
    "from skimage import io, color, filters, util\n",
    "import matplotlib.pyplot as plt\n"
   ]
  },
  {
   "cell_type": "code",
   "execution_count": 38,
   "metadata": {},
   "outputs": [],
   "source": [
    "# organize dataset into a useful structure\n",
    "from os import makedirs\n",
    "from os import listdir\n",
    "from shutil import copyfile\n",
    "from random import seed\n",
    "from random import random\n",
    "import os\n",
    "\n",
    "# feature-descriptor-1: Hu Moments\n",
    "def fd_hu_moments(image):\n",
    "    image = cv2.cvtColor(image, cv2.COLOR_BGR2GRAY)\n",
    "    feature = cv2.HuMoments(cv2.moments(image)).flatten()\n",
    "    return feature\n",
    "\n",
    "# feature-descriptor-2: Haralick Texture\n",
    "def fd_haralick(image):\n",
    "    # convert the image to grayscale\n",
    "    gray = cv2.cvtColor(image, cv2.COLOR_BGR2GRAY)\n",
    "    # compute the haralick texture feature vector\n",
    "    haralick = mahotas.features.haralick(gray).mean(axis=0)\n",
    "    # return the result\n",
    "    return haralick\n",
    "\n"
   ]
  },
  {
   "cell_type": "code",
   "execution_count": 89,
   "metadata": {},
   "outputs": [
    {
     "name": "stderr",
     "output_type": "stream",
     "text": [
      "c:\\users\\jeremia delviero\\appdata\\local\\programs\\python\\python37\\lib\\site-packages\\skimage\\util\\dtype.py:135: UserWarning: Possible precision loss when converting from float64 to uint8\n",
      "  .format(dtypeobj_in, dtypeobj_out))\n",
      "c:\\users\\jeremia delviero\\appdata\\local\\programs\\python\\python37\\lib\\site-packages\\skimage\\measure\\_regionprops.py:250: UserWarning: regionprops and image moments (including moments, normalized moments, central moments, and inertia tensor) of 2D images will change from xy coordinates to rc coordinates in version 0.16.\n",
      "See https://scikit-image.org/docs/0.14.x/release_notes_and_installation.html#deprecations for details on how to avoid this message.\n",
      "  warn(XY_TO_RC_DEPRECATION_MESSAGE)\n",
      "c:\\users\\jeremia delviero\\appdata\\local\\programs\\python\\python37\\lib\\site-packages\\skimage\\measure\\_regionprops.py:260: UserWarning: regionprops and image moments (including moments, normalized moments, central moments, and inertia tensor) of 2D images will change from xy coordinates to rc coordinates in version 0.16.\n",
      "See https://scikit-image.org/docs/0.14.x/release_notes_and_installation.html#deprecations for details on how to avoid this message.\n",
      "  warn(XY_TO_RC_DEPRECATION_MESSAGE)\n"
     ]
    },
    {
     "name": "stdout",
     "output_type": "stream",
     "text": [
      "[[3 2 0]\n",
      " [0 1 2]\n",
      " [2 2 3]]\n",
      "Akurasi: 73.333333\n"
     ]
    },
    {
     "name": "stderr",
     "output_type": "stream",
     "text": [
      "c:\\users\\jeremia delviero\\appdata\\local\\programs\\python\\python37\\lib\\site-packages\\ipykernel_launcher.py:81: DataConversionWarning: A column-vector y was passed when a 1d array was expected. Please change the shape of y to (n_samples, ), for example using ravel().\n"
     ]
    }
   ],
   "source": [
    "from skimage import measure, io, img_as_bool\n",
    "import numpy as np\n",
    "import glob\n",
    "from cv2 import Sobel\n",
    "from sklearn import svm, metrics, neighbors\n",
    "\n",
    "files = glob.glob(\"Dataset/Motor/Train/*-i/*.jpg\")\n",
    "train_shape_feature = np.zeros((30,5))\n",
    "for k in range(len(files)):\n",
    "    BW1 = io.imread(files[k])\n",
    "    G = util.img_as_ubyte(color.rgb2gray(BW1))\n",
    "    T = filters.threshold_otsu(G)\n",
    "    S = util.img_as_float(G < T)\n",
    "#     plt.imshow(S)\n",
    "#     plt.show()\n",
    "#     img = np.float32(BW1) / 255.0 \n",
    "#     gx = cv2.Sobel(img, cv2.CV_32F, 1, 0, ksize=1)\n",
    "#     gy = cv2.Sobel(img, cv2.CV_32F, 0, 1, ksize=1)\n",
    "#     mag, angle = cv2.cartToPolar(gx, gy, angleInDegrees=True)\n",
    "    sf = measure.regionprops(S.astype(int))\n",
    "    shape_feature = [max(s.moments_hu[0] for s in sf),\n",
    "    max(s.moments_hu[1] for s in sf),\n",
    "    max(s.moments_hu[2] for s in sf),\n",
    "    max(s.solidity for s in sf),                 \n",
    "    max(s.eccentricity for s in sf),]\n",
    "    train_shape_feature[k,:] = shape_feature\n",
    "np.savetxt('train_shape_feature.csv', train_shape_feature, delimiter=',', fmt='%f')\n",
    "\n",
    "files = glob.glob(\"Dataset/Motor/Test/*-i/*.jpg\")\n",
    "test_shape_feature = np.zeros((15,5))\n",
    "for k in range(len(files)):\n",
    "    BW1 = io.imread(files[k])\n",
    "    G = util.img_as_ubyte(color.rgb2gray(BW1))\n",
    "    T = filters.threshold_otsu(G)\n",
    "    S = util.img_as_float(G < T)\n",
    "#     img = np.float32(BW1) / 255.0 \n",
    "#     gx = cv2.Sobel(img, cv2.CV_32F, 1, 0, ksize=1)\n",
    "#     gy = cv2.Sobel(img, cv2.CV_32F, 0, 1, ksize=1)\n",
    "#     mag, angle = cv2.cartToPolar(gx, gy, angleInDegrees=True)\n",
    "    sf = measure.regionprops(S.astype(int))\n",
    "    shape_feature = [max(s.moments_hu[0] for s in sf),\n",
    "    max(s.moments_hu[1] for s in sf),\n",
    "    max(s.moments_hu[2] for s in sf),\n",
    "    max(s.solidity for s in sf),               \n",
    "    max(s.eccentricity for s in sf),]\n",
    "    test_shape_feature[k,:] = shape_feature\n",
    "np.savetxt('test_shape_feature.csv', test_shape_feature, delimiter=',', fmt='%f')\n",
    "\n",
    "def accuracy(actual,predicted):\n",
    "    \"\"\"This function evaluates the performance of a classification model\n",
    "    by calculating the Accuracy\n",
    "    actual = Column matrix with actual class labels of the training\n",
    "    examples\n",
    "    predicted = Column matrix with predicted class labels by the\n",
    "    classification model\n",
    "    Output: Row matrix with all the performance measures\"\"\"\n",
    "    p = np.count_nonzero(actual == 1)\n",
    "    n = np.count_nonzero(actual != 1)\n",
    "    N = p + n\n",
    "    tp= sum((int(actual[i] == 1 and predicted[i] == 1) for i in range(len(actual))))\n",
    "    tn = sum((int(actual[i] != 1 and predicted[i] != 1) for i in range(len(actual))))\n",
    "    fp = n - tn\n",
    "    fn = p - tp\n",
    "    accuracy = (tp + tn) / N\n",
    "    return accuracy\n",
    "\n",
    "train_label = np.ones((30,1))\n",
    "train_label[10:20] = 2\n",
    "train_label[20:] = 3\n",
    "\n",
    "test_label = np.ones((15,1))\n",
    "test_label[5:10] = 2\n",
    "test_label[10:] = 3\n",
    "\n",
    "train_shape_feature=np.genfromtxt('train_shape_feature.csv',delimiter=',')\n",
    "test_shape_feature=np.genfromtxt('test_shape_feature.csv',delimiter=',')\n",
    " \n",
    "clf = neighbors.KNeighborsClassifier(7)\n",
    "clf.fit(train_shape_feature, train_label)\n",
    "svm_label = clf.predict(test_shape_feature)\n",
    "cm_svm = metrics.confusion_matrix(svm_label, test_label)\n",
    "print(cm_svm)\n",
    "\n",
    "accuracy = accuracy(test_label,svm_label) * 100\n",
    "print(\"Akurasi: %f\" % (accuracy))"
   ]
  },
  {
   "cell_type": "code",
   "execution_count": 85,
   "metadata": {},
   "outputs": [
    {
     "name": "stdout",
     "output_type": "stream",
     "text": [
      "SVC(C=1.0, cache_size=200, class_weight=None, coef0=0.0,\n",
      "    decision_function_shape='ovr', degree=3, gamma='scale', kernel='rbf',\n",
      "    max_iter=-1, probability=False, random_state=None, shrinking=True,\n",
      "    tol=0.001, verbose=False)\n"
     ]
    },
    {
     "name": "stderr",
     "output_type": "stream",
     "text": [
      "c:\\users\\jeremia delviero\\appdata\\local\\programs\\python\\python37\\lib\\site-packages\\sklearn\\utils\\validation.py:724: DataConversionWarning: A column-vector y was passed when a 1d array was expected. Please change the shape of y to (n_samples, ), for example using ravel().\n",
      "  y = column_or_1d(y, warn=True)\n"
     ]
    },
    {
     "ename": "ValueError",
     "evalue": "Found input variables with inconsistent numbers of samples: [15, 14]",
     "output_type": "error",
     "traceback": [
      "\u001b[1;31m---------------------------------------------------------------------------\u001b[0m",
      "\u001b[1;31mValueError\u001b[0m                                Traceback (most recent call last)",
      "\u001b[1;32m<ipython-input-85-b1983dce64a9>\u001b[0m in \u001b[0;36m<module>\u001b[1;34m\u001b[0m\n\u001b[0;32m     12\u001b[0m \u001b[0mclf\u001b[0m\u001b[1;33m.\u001b[0m\u001b[0mfit\u001b[0m\u001b[1;33m(\u001b[0m\u001b[0mtrain_shape_feature\u001b[0m\u001b[1;33m,\u001b[0m \u001b[0mtrain_label\u001b[0m\u001b[1;33m)\u001b[0m\u001b[1;33m\u001b[0m\u001b[0m\n\u001b[0;32m     13\u001b[0m \u001b[0msvm_label\u001b[0m \u001b[1;33m=\u001b[0m \u001b[0mclf\u001b[0m\u001b[1;33m.\u001b[0m\u001b[0mpredict\u001b[0m\u001b[1;33m(\u001b[0m\u001b[0mtest_shape_feature\u001b[0m\u001b[1;33m)\u001b[0m\u001b[1;33m\u001b[0m\u001b[0m\n\u001b[1;32m---> 14\u001b[1;33m \u001b[0mcm_svm\u001b[0m \u001b[1;33m=\u001b[0m \u001b[0mmetrics\u001b[0m\u001b[1;33m.\u001b[0m\u001b[0mconfusion_matrix\u001b[0m\u001b[1;33m(\u001b[0m\u001b[0msvm_label\u001b[0m\u001b[1;33m,\u001b[0m \u001b[0mtest_label\u001b[0m\u001b[1;33m)\u001b[0m\u001b[1;33m\u001b[0m\u001b[0m\n\u001b[0m\u001b[0;32m     15\u001b[0m \u001b[1;33m\u001b[0m\u001b[0m\n\u001b[0;32m     16\u001b[0m \u001b[0mprint\u001b[0m\u001b[1;33m(\u001b[0m\u001b[0mcm_svm\u001b[0m\u001b[1;33m)\u001b[0m\u001b[1;33m\u001b[0m\u001b[0m\n",
      "\u001b[1;32mc:\\users\\jeremia delviero\\appdata\\local\\programs\\python\\python37\\lib\\site-packages\\sklearn\\metrics\\classification.py\u001b[0m in \u001b[0;36mconfusion_matrix\u001b[1;34m(y_true, y_pred, labels, sample_weight)\u001b[0m\n\u001b[0;32m    251\u001b[0m \u001b[1;33m\u001b[0m\u001b[0m\n\u001b[0;32m    252\u001b[0m     \"\"\"\n\u001b[1;32m--> 253\u001b[1;33m     \u001b[0my_type\u001b[0m\u001b[1;33m,\u001b[0m \u001b[0my_true\u001b[0m\u001b[1;33m,\u001b[0m \u001b[0my_pred\u001b[0m \u001b[1;33m=\u001b[0m \u001b[0m_check_targets\u001b[0m\u001b[1;33m(\u001b[0m\u001b[0my_true\u001b[0m\u001b[1;33m,\u001b[0m \u001b[0my_pred\u001b[0m\u001b[1;33m)\u001b[0m\u001b[1;33m\u001b[0m\u001b[0m\n\u001b[0m\u001b[0;32m    254\u001b[0m     \u001b[1;32mif\u001b[0m \u001b[0my_type\u001b[0m \u001b[1;32mnot\u001b[0m \u001b[1;32min\u001b[0m \u001b[1;33m(\u001b[0m\u001b[1;34m\"binary\"\u001b[0m\u001b[1;33m,\u001b[0m \u001b[1;34m\"multiclass\"\u001b[0m\u001b[1;33m)\u001b[0m\u001b[1;33m:\u001b[0m\u001b[1;33m\u001b[0m\u001b[0m\n\u001b[0;32m    255\u001b[0m         \u001b[1;32mraise\u001b[0m \u001b[0mValueError\u001b[0m\u001b[1;33m(\u001b[0m\u001b[1;34m\"%s is not supported\"\u001b[0m \u001b[1;33m%\u001b[0m \u001b[0my_type\u001b[0m\u001b[1;33m)\u001b[0m\u001b[1;33m\u001b[0m\u001b[0m\n",
      "\u001b[1;32mc:\\users\\jeremia delviero\\appdata\\local\\programs\\python\\python37\\lib\\site-packages\\sklearn\\metrics\\classification.py\u001b[0m in \u001b[0;36m_check_targets\u001b[1;34m(y_true, y_pred)\u001b[0m\n\u001b[0;32m     69\u001b[0m     \u001b[0my_pred\u001b[0m \u001b[1;33m:\u001b[0m \u001b[0marray\u001b[0m \u001b[1;32mor\u001b[0m \u001b[0mindicator\u001b[0m \u001b[0mmatrix\u001b[0m\u001b[1;33m\u001b[0m\u001b[0m\n\u001b[0;32m     70\u001b[0m     \"\"\"\n\u001b[1;32m---> 71\u001b[1;33m     \u001b[0mcheck_consistent_length\u001b[0m\u001b[1;33m(\u001b[0m\u001b[0my_true\u001b[0m\u001b[1;33m,\u001b[0m \u001b[0my_pred\u001b[0m\u001b[1;33m)\u001b[0m\u001b[1;33m\u001b[0m\u001b[0m\n\u001b[0m\u001b[0;32m     72\u001b[0m     \u001b[0mtype_true\u001b[0m \u001b[1;33m=\u001b[0m \u001b[0mtype_of_target\u001b[0m\u001b[1;33m(\u001b[0m\u001b[0my_true\u001b[0m\u001b[1;33m)\u001b[0m\u001b[1;33m\u001b[0m\u001b[0m\n\u001b[0;32m     73\u001b[0m     \u001b[0mtype_pred\u001b[0m \u001b[1;33m=\u001b[0m \u001b[0mtype_of_target\u001b[0m\u001b[1;33m(\u001b[0m\u001b[0my_pred\u001b[0m\u001b[1;33m)\u001b[0m\u001b[1;33m\u001b[0m\u001b[0m\n",
      "\u001b[1;32mc:\\users\\jeremia delviero\\appdata\\local\\programs\\python\\python37\\lib\\site-packages\\sklearn\\utils\\validation.py\u001b[0m in \u001b[0;36mcheck_consistent_length\u001b[1;34m(*arrays)\u001b[0m\n\u001b[0;32m    203\u001b[0m     \u001b[1;32mif\u001b[0m \u001b[0mlen\u001b[0m\u001b[1;33m(\u001b[0m\u001b[0muniques\u001b[0m\u001b[1;33m)\u001b[0m \u001b[1;33m>\u001b[0m \u001b[1;36m1\u001b[0m\u001b[1;33m:\u001b[0m\u001b[1;33m\u001b[0m\u001b[0m\n\u001b[0;32m    204\u001b[0m         raise ValueError(\"Found input variables with inconsistent numbers of\"\n\u001b[1;32m--> 205\u001b[1;33m                          \" samples: %r\" % [int(l) for l in lengths])\n\u001b[0m\u001b[0;32m    206\u001b[0m \u001b[1;33m\u001b[0m\u001b[0m\n\u001b[0;32m    207\u001b[0m \u001b[1;33m\u001b[0m\u001b[0m\n",
      "\u001b[1;31mValueError\u001b[0m: Found input variables with inconsistent numbers of samples: [15, 14]"
     ]
    }
   ],
   "source": [
    "# ## coba-coba aja SVM\n",
    "# from sklearn import svm, metrics\n",
    "\n",
    "# train_label = np.ones((30,1))\n",
    "# train_label[15:,0] = 2\n",
    "# test_label = np.ones((15,1))\n",
    "# test_label[7:,0] = 2\n",
    "# train_shape_feature=np.genfromtxt('train_shape_feature.csv',delimiter=',')\n",
    "# test_shape_feature=np.genfromtxt('test_shape_feature.csv',delimiter=',')\n",
    "# clf = svm.SVC(gamma='scale')\n",
    "# print(clf)\n",
    "# clf.fit(train_shape_feature, train_label)\n",
    "# svm_label = clf.predict(test_shape_feature)\n",
    "# cm_svm = metrics.confusion_matrix(svm_label, test_label)\n",
    "\n",
    "# print(cm_svm)\n",
    "\n",
    "# accuracy = accuracy(test_label,svm_label)\n",
    "# print(\"Akurasi: %f\" % (accuracy))"
   ]
  },
  {
   "cell_type": "code",
   "execution_count": null,
   "metadata": {},
   "outputs": [],
   "source": []
  }
 ],
 "metadata": {
  "kernelspec": {
   "display_name": "Python 3",
   "language": "python",
   "name": "python3"
  },
  "language_info": {
   "codemirror_mode": {
    "name": "ipython",
    "version": 3
   },
   "file_extension": ".py",
   "mimetype": "text/x-python",
   "name": "python",
   "nbconvert_exporter": "python",
   "pygments_lexer": "ipython3",
   "version": "3.7.0"
  }
 },
 "nbformat": 4,
 "nbformat_minor": 4
}
